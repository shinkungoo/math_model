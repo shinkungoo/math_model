{
 "cells": [
  {
   "cell_type": "code",
   "execution_count": 45,
   "metadata": {
    "collapsed": true,
    "pycharm": {
     "name": "#%%\n"
    }
   },
   "outputs": [],
   "source": [
    "import numpy as np\n",
    "import pandas as pd\n",
    "from scipy import stats"
   ]
  },
  {
   "cell_type": "code",
   "execution_count": 46,
   "outputs": [],
   "source": [
    "%matplotlib inline\n",
    "%config InlineBackend.figure_format = 'svg'"
   ],
   "metadata": {
    "collapsed": false,
    "pycharm": {
     "name": "#%%\n"
    }
   }
  },
  {
   "cell_type": "code",
   "execution_count": 47,
   "outputs": [
    {
     "name": "stdout",
     "output_type": "stream",
     "text": [
      "Mann-Whitney U统计量： 164307.5\n",
      "P值： 6.111941443078372e-07\n"
     ]
    }
   ],
   "source": [
    "# 问题一\n",
    "# 读取数据\n",
    "b_array = pd.read_csv(\"data/B术中不良反应.csv\").to_numpy().T[0]\n",
    "r_array = pd.read_csv(\"data/R术中不良反应.csv\").to_numpy().T[0]\n",
    "# 执行Mann-Whitney U检验\n",
    "statistic, p_value = stats.mannwhitneyu(b_array, r_array)\n",
    "# 输出结果\n",
    "print(\"Mann-Whitney U统计量：\", statistic)\n",
    "print(\"P值：\", p_value)"
   ],
   "metadata": {
    "collapsed": false,
    "pycharm": {
     "name": "#%%\n"
    }
   }
  },
  {
   "cell_type": "code",
   "execution_count": 48,
   "outputs": [
    {
     "name": "stdout",
     "output_type": "stream",
     "text": [
      "Mann-Whitney U统计量： 191592.5\n",
      "P值： 0.0006468912896214768\n",
      "______________________________________\n",
      "Mann-Whitney U统计量： 181802.5\n",
      "P值： 0.35728847682484577\n",
      "______________________________________\n",
      "Mann-Whitney U统计量： 185922.5\n",
      "P值： 0.01126224750014094\n",
      "______________________________________\n",
      "Mann-Whitney U统计量： 183082.5\n",
      "P值： 0.9380303584796096\n",
      "______________________________________\n",
      "Mann-Whitney U统计量： 182662.5\n",
      "P值： 0.8505937217256722\n",
      "______________________________________\n",
      "Mann-Whitney U统计量： 180615.0\n",
      "P值： 0.09223020886637176\n",
      "______________________________________\n",
      "Mann-Whitney U统计量： 199760.0\n",
      "P值： 4.6759470794655606e-08\n",
      "______________________________________\n",
      "Mann-Whitney U统计量： 187430.0\n",
      "P值： 0.004004268768936033\n",
      "______________________________________\n",
      "Mann-Whitney U统计量： 193025.0\n",
      "P值： 1.0071965836896314e-06\n",
      "______________________________________\n"
     ]
    }
   ],
   "source": [
    "b_arrays = pd.read_csv(\"data/B术后不良反应.csv\").to_numpy().T\n",
    "r_arrays = pd.read_csv(\"data/R术后不良反应.csv\").to_numpy().T\n",
    "for b_line, r_line in zip(b_arrays, r_arrays):\n",
    "    # 执行Mann-Whitney U检验\n",
    "    statistic, p_value = stats.mannwhitneyu(b_line, r_line)\n",
    "    # 输出结果\n",
    "    print(\"Mann-Whitney U统计量：\", statistic)\n",
    "    print(\"P值：\", p_value)\n",
    "    print(\"______________________________________\")"
   ],
   "metadata": {
    "collapsed": false,
    "pycharm": {
     "name": "#%%\n"
    }
   }
  },
  {
   "cell_type": "code",
   "execution_count": 48,
   "outputs": [],
   "source": [],
   "metadata": {
    "collapsed": false,
    "pycharm": {
     "name": "#%%\n"
    }
   }
  }
 ],
 "metadata": {
  "kernelspec": {
   "display_name": "Python 3",
   "language": "python",
   "name": "python3"
  },
  "language_info": {
   "codemirror_mode": {
    "name": "ipython",
    "version": 2
   },
   "file_extension": ".py",
   "mimetype": "text/x-python",
   "name": "python",
   "nbconvert_exporter": "python",
   "pygments_lexer": "ipython2",
   "version": "2.7.6"
  }
 },
 "nbformat": 4,
 "nbformat_minor": 0
}