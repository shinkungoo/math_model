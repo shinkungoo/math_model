{
 "cells": [
  {
   "cell_type": "code",
   "execution_count": 55,
   "metadata": {
    "collapsed": true,
    "pycharm": {
     "name": "#%%\n"
    }
   },
   "outputs": [],
   "source": [
    "import numpy as np\n",
    "import pandas as pd\n",
    "import xgboost as xgb\n",
    "import matplotlib.pyplot as plt\n",
    "from sklearn.model_selection import train_test_split\n",
    "from sklearn.metrics import accuracy_score, f1_score"
   ]
  },
  {
   "cell_type": "code",
   "execution_count": 56,
   "outputs": [],
   "source": [
    "%matplotlib inline\n",
    "%config InlineBackend.figure_format = 'svg'"
   ],
   "metadata": {
    "collapsed": false,
    "pycharm": {
     "name": "#%%\n"
    }
   }
  },
  {
   "cell_type": "code",
   "execution_count": 57,
   "outputs": [
    {
     "name": "stdout",
     "output_type": "stream",
     "text": [
      "accuracy: 0.9357429718875502\n",
      "accuracy: 0.9759036144578314\n",
      "accuracy: 0.9879518072289156\n",
      "accuracy: 0.927710843373494\n",
      "accuracy: 0.9919678714859438\n",
      "accuracy: 0.9919678714859438\n",
      "accuracy: 0.9196787148594378\n",
      "accuracy: 0.9718875502008032\n",
      "accuracy: 0.9518072289156626\n",
      "accuracy: 0.8554216867469879\n"
     ]
    }
   ],
   "source": [
    "# 读取数据\n",
    "dataset = pd.read_csv(\"data/预测不良反应.csv\").to_numpy(dtype=float)\n",
    "# 分离特征和标签，处理矩阵\n",
    "X = dataset[:, :12]\n",
    "labels = dataset[:, 12:].T.astype(int)\n",
    "label_text = [\"体重\",\"年龄\",\"性别\",\"身高\",\"是否吸烟\",\"是否酗酒\",\"有无PONV\",\"有无手术史\",\"有无既往史\",\"有无晕动史\",\"镇痛药用药量\",\"镇静药名称\"]\n",
    "models = []\n",
    "# 遍历每一组标签，然后训练\n",
    "for label in labels:\n",
    "    X_train, X_test, y_train, y_test = train_test_split(X, label, test_size=0.2, random_state=42)\n",
    "    model = xgb.XGBClassifier()\n",
    "    model.fit(X_train, y_train)\n",
    "    models.append(model)\n",
    "    y_pred = model.predict(X_test)\n",
    "    accuracy = accuracy_score(y_test, y_pred)\n",
    "    # f1 = f1_score(y_test, y_pred, average=\"macro\")\n",
    "    print(f\"accuracy: {accuracy}\")"
   ],
   "metadata": {
    "collapsed": false,
    "pycharm": {
     "name": "#%%\n"
    }
   }
  },
  {
   "cell_type": "code",
   "execution_count": 58,
   "outputs": [],
   "source": [
    "# 打印模型的重要性采样结果\n",
    "# for model in models:"
   ],
   "metadata": {
    "collapsed": false,
    "pycharm": {
     "name": "#%%\n"
    }
   }
  },
  {
   "cell_type": "code",
   "execution_count": 58,
   "outputs": [],
   "source": [],
   "metadata": {
    "collapsed": false,
    "pycharm": {
     "name": "#%%\n"
    }
   }
  }
 ],
 "metadata": {
  "kernelspec": {
   "name": "ipython",
   "language": "python",
   "display_name": "ipython"
  },
  "language_info": {
   "codemirror_mode": {
    "name": "ipython",
    "version": 2
   },
   "file_extension": ".py",
   "mimetype": "text/x-python",
   "name": "python",
   "nbconvert_exporter": "python",
   "pygments_lexer": "ipython2",
   "version": "2.7.6"
  }
 },
 "nbformat": 4,
 "nbformat_minor": 0
}