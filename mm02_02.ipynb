{
 "cells": [
  {
   "cell_type": "code",
   "execution_count": 15,
   "metadata": {
    "collapsed": true,
    "pycharm": {
     "name": "#%%\n"
    }
   },
   "outputs": [],
   "source": [
    "import numpy as np\n",
    "import pandas as pd\n",
    "import matplotlib.pyplot as plt\n",
    "import networkx as nx\n",
    "import dowhy.gcm\n",
    "from sklearn.preprocessing import MinMaxScaler"
   ]
  },
  {
   "cell_type": "markdown",
   "source": [
    "根据第二问前半部分，确定了以下指标具有显著差异：\n",
    "dbpjieshu，petco2jieshu，HR10，IPI3，moaasjieshu"
   ],
   "metadata": {
    "collapsed": false,
    "pycharm": {
     "name": "#%% md\n"
    }
   }
  },
  {
   "cell_type": "code",
   "execution_count": 16,
   "outputs": [],
   "source": [
    "dataset = pd.read_csv(\"data/因果效应.csv\")\n",
    "scaler = MinMaxScaler()"
   ],
   "metadata": {
    "collapsed": false,
    "pycharm": {
     "name": "#%%\n"
    }
   }
  },
  {
   "cell_type": "code",
   "execution_count": 17,
   "outputs": [
    {
     "data": {
      "text/plain": "   镇静药名称    年龄  性别     身高  是否吸烟  是否酗酒  有无PONV  有无手术史  有无既往史  有无晕动史    镇痛药用药量  \\\n0      0  0.72   0  0.790     0     0       0      0      0      0  0.389776   \n1      0  0.61   0  0.795     0     0       0      0      0      0  0.389776   \n2      1  0.58   1  0.845     0     0       0      0      0      0  0.389776   \n3      1  0.65   0  0.770     0     0       0      0      1      0  0.389776   \n4      1  0.55   0  0.800     0     0       0      0      0      0  0.389776   \n\n   dbpjieshu  petco2jieshu  HR10  IPI3  moaasjieshu  \n0       78.0           8.0   NaN   1.0          0.0  \n1       84.0          19.0  78.0   1.0          0.0  \n2       76.0          20.0  72.0   2.0          0.0  \n3       55.0          11.0   NaN   1.0          0.0  \n4       65.0          45.0  85.0   1.0          0.0  ",
      "text/html": "<div>\n<style scoped>\n    .dataframe tbody tr th:only-of-type {\n        vertical-align: middle;\n    }\n\n    .dataframe tbody tr th {\n        vertical-align: top;\n    }\n\n    .dataframe thead th {\n        text-align: right;\n    }\n</style>\n<table border=\"1\" class=\"dataframe\">\n  <thead>\n    <tr style=\"text-align: right;\">\n      <th></th>\n      <th>镇静药名称</th>\n      <th>年龄</th>\n      <th>性别</th>\n      <th>身高</th>\n      <th>是否吸烟</th>\n      <th>是否酗酒</th>\n      <th>有无PONV</th>\n      <th>有无手术史</th>\n      <th>有无既往史</th>\n      <th>有无晕动史</th>\n      <th>镇痛药用药量</th>\n      <th>dbpjieshu</th>\n      <th>petco2jieshu</th>\n      <th>HR10</th>\n      <th>IPI3</th>\n      <th>moaasjieshu</th>\n    </tr>\n  </thead>\n  <tbody>\n    <tr>\n      <th>0</th>\n      <td>0</td>\n      <td>0.72</td>\n      <td>0</td>\n      <td>0.790</td>\n      <td>0</td>\n      <td>0</td>\n      <td>0</td>\n      <td>0</td>\n      <td>0</td>\n      <td>0</td>\n      <td>0.389776</td>\n      <td>78.0</td>\n      <td>8.0</td>\n      <td>NaN</td>\n      <td>1.0</td>\n      <td>0.0</td>\n    </tr>\n    <tr>\n      <th>1</th>\n      <td>0</td>\n      <td>0.61</td>\n      <td>0</td>\n      <td>0.795</td>\n      <td>0</td>\n      <td>0</td>\n      <td>0</td>\n      <td>0</td>\n      <td>0</td>\n      <td>0</td>\n      <td>0.389776</td>\n      <td>84.0</td>\n      <td>19.0</td>\n      <td>78.0</td>\n      <td>1.0</td>\n      <td>0.0</td>\n    </tr>\n    <tr>\n      <th>2</th>\n      <td>1</td>\n      <td>0.58</td>\n      <td>1</td>\n      <td>0.845</td>\n      <td>0</td>\n      <td>0</td>\n      <td>0</td>\n      <td>0</td>\n      <td>0</td>\n      <td>0</td>\n      <td>0.389776</td>\n      <td>76.0</td>\n      <td>20.0</td>\n      <td>72.0</td>\n      <td>2.0</td>\n      <td>0.0</td>\n    </tr>\n    <tr>\n      <th>3</th>\n      <td>1</td>\n      <td>0.65</td>\n      <td>0</td>\n      <td>0.770</td>\n      <td>0</td>\n      <td>0</td>\n      <td>0</td>\n      <td>0</td>\n      <td>1</td>\n      <td>0</td>\n      <td>0.389776</td>\n      <td>55.0</td>\n      <td>11.0</td>\n      <td>NaN</td>\n      <td>1.0</td>\n      <td>0.0</td>\n    </tr>\n    <tr>\n      <th>4</th>\n      <td>1</td>\n      <td>0.55</td>\n      <td>0</td>\n      <td>0.800</td>\n      <td>0</td>\n      <td>0</td>\n      <td>0</td>\n      <td>0</td>\n      <td>0</td>\n      <td>0</td>\n      <td>0.389776</td>\n      <td>65.0</td>\n      <td>45.0</td>\n      <td>85.0</td>\n      <td>1.0</td>\n      <td>0.0</td>\n    </tr>\n  </tbody>\n</table>\n</div>"
     },
     "execution_count": 17,
     "metadata": {},
     "output_type": "execute_result"
    }
   ],
   "source": [
    "column = dataset[\"镇痛药用药量\"]\n",
    "uniformed = scaler.fit_transform(column.values.reshape(-1, 1))\n",
    "dataset[\"镇痛药用药量\"] = uniformed\n",
    "\n",
    "# column = dataset[\"dbpjieshu\"]\n",
    "# uniformed = scaler.fit_transform(column.values.reshape(-1, 1))\n",
    "# dataset[\"dbpjieshu\"] = uniformed\n",
    "#\n",
    "# column = dataset[\"petco2jieshu\"]\n",
    "# uniformed = scaler.fit_transform(column.values.reshape(-1, 1))\n",
    "# dataset[\"petco2jieshu\"] = uniformed\n",
    "#\n",
    "# column = dataset[\"HR10\"]\n",
    "# uniformed = scaler.fit_transform(column.values.reshape(-1, 1))\n",
    "# dataset[\"HR10\"] = uniformed\n",
    "#\n",
    "# column = dataset[\"IPI3\"]\n",
    "# uniformed = scaler.fit_transform(column.values.reshape(-1, 1))\n",
    "# dataset[\"IPI3\"] = uniformed\n",
    "\n",
    "dataset.head()"
   ],
   "metadata": {
    "collapsed": false,
    "pycharm": {
     "name": "#%%\n"
    }
   }
  },
  {
   "cell_type": "code",
   "execution_count": 18,
   "outputs": [],
   "source": [
    "medical_data_list = []\n",
    "medical_data_labels = []\n",
    "condition_labels = [\"年龄\", \"性别\", \"身高\", \"是否吸烟\", \"是否酗酒\", \"有无PONV\", \"有无手术史\", \"有无既往史\", \"有无晕动史\", \"镇痛药用药量\"]\n",
    "metric_labels = [\"dbpjieshu\", \"petco2jieshu\", \"HR10\", \"IPI3\", \"moaasjieshu\"]\n",
    "for condition in condition_labels:\n",
    "    for metric in metric_labels:\n",
    "        columns = [condition, \"镇静药名称\", metric]\n",
    "        medical_data_list.append(dataset[columns].dropna())\n",
    "        medical_data_list[-1].columns = [\"Condition\", \"Treatment\", \"Metric\"]\n",
    "        medical_data_labels.append(condition + \"对\" + metric)"
   ],
   "metadata": {
    "collapsed": false,
    "pycharm": {
     "name": "#%%\n"
    }
   }
  },
  {
   "cell_type": "code",
   "execution_count": 24,
   "outputs": [
    {
     "data": {
      "text/plain": "<Figure size 640x480 with 1 Axes>",
      "image/png": "[encoded data removed]"
     },
     "metadata": {},
     "output_type": "display_data"
    },
    {
     "name": "stderr",
     "output_type": "stream",
     "text": [
      "Fitting causal mechanism of node Condition: 100%|██████████| 3/3 [00:00<00:00, 52.40it/s]\n"
     ]
    },
    {
     "name": "stdout",
     "output_type": "stream",
     "text": [
      "年龄对dbpjieshu数据中，Treatment的ACE： 3.46095689090987\n"
     ]
    },
    {
     "name": "stderr",
     "output_type": "stream",
     "text": [
      "Fitting causal mechanism of node Condition: 100%|██████████| 3/3 [00:00<00:00, 986.20it/s]\n"
     ]
    },
    {
     "name": "stdout",
     "output_type": "stream",
     "text": [
      "年龄对petco2jieshu数据中，Treatment的ACE： -2.5388701385572716\n"
     ]
    },
    {
     "name": "stderr",
     "output_type": "stream",
     "text": [
      "Fitting causal mechanism of node Condition: 100%|██████████| 3/3 [00:00<00:00, 150.63it/s]\n"
     ]
    },
    {
     "name": "stdout",
     "output_type": "stream",
     "text": [
      "年龄对HR10数据中，Treatment的ACE： 3.1241083748444964\n"
     ]
    },
    {
     "name": "stderr",
     "output_type": "stream",
     "text": [
      "Fitting causal mechanism of node Condition: 100%|██████████| 3/3 [00:00<00:00, 968.07it/s]\n"
     ]
    },
    {
     "name": "stdout",
     "output_type": "stream",
     "text": [
      "年龄对IPI3数据中，Treatment的ACE： 0.7009449313678513\n"
     ]
    },
    {
     "name": "stderr",
     "output_type": "stream",
     "text": [
      "Fitting causal mechanism of node Condition: 100%|██████████| 3/3 [00:00<00:00, 94.83it/s]\n"
     ]
    },
    {
     "name": "stdout",
     "output_type": "stream",
     "text": [
      "年龄对moaasjieshu数据中，Treatment的ACE： 0.006436041834271922\n"
     ]
    },
    {
     "name": "stderr",
     "output_type": "stream",
     "text": [
      "Fitting causal mechanism of node Condition: 100%|██████████| 3/3 [00:00<00:00, 57.89it/s]\n"
     ]
    },
    {
     "name": "stdout",
     "output_type": "stream",
     "text": [
      "性别对dbpjieshu数据中，Treatment的ACE： 2.246841909022095\n"
     ]
    },
    {
     "name": "stderr",
     "output_type": "stream",
     "text": [
      "Fitting causal mechanism of node Condition: 100%|██████████| 3/3 [00:00<00:00, 699.13it/s]\n"
     ]
    },
    {
     "name": "stdout",
     "output_type": "stream",
     "text": [
      "性别对petco2jieshu数据中，Treatment的ACE： -1.9339974900317216\n"
     ]
    },
    {
     "name": "stderr",
     "output_type": "stream",
     "text": [
      "Fitting causal mechanism of node Condition: 100%|██████████| 3/3 [00:00<00:00, 10.81it/s]\n"
     ]
    },
    {
     "name": "stdout",
     "output_type": "stream",
     "text": [
      "性别对HR10数据中，Treatment的ACE： 4.1784989464439235\n"
     ]
    },
    {
     "ename": "KeyboardInterrupt",
     "evalue": "",
     "output_type": "error",
     "traceback": [
      "\u001B[0;31m---------------------------------------------------------------------------\u001B[0m",
      "\u001B[0;31mKeyboardInterrupt\u001B[0m                         Traceback (most recent call last)",
      "Cell \u001B[0;32mIn [24], line 7\u001B[0m\n\u001B[1;32m      4\u001B[0m dowhy\u001B[38;5;241m.\u001B[39mgcm\u001B[38;5;241m.\u001B[39mutil\u001B[38;5;241m.\u001B[39mplot(causal_model\u001B[38;5;241m.\u001B[39mgraph)\n\u001B[1;32m      6\u001B[0m \u001B[38;5;28;01mfor\u001B[39;00m medical_data, medical_label \u001B[38;5;129;01min\u001B[39;00m \u001B[38;5;28mzip\u001B[39m(medical_data_list, medical_data_labels):\n\u001B[0;32m----> 7\u001B[0m     \u001B[43mdowhy\u001B[49m\u001B[38;5;241;43m.\u001B[39;49m\u001B[43mgcm\u001B[49m\u001B[38;5;241;43m.\u001B[39;49m\u001B[43mauto\u001B[49m\u001B[38;5;241;43m.\u001B[39;49m\u001B[43massign_causal_mechanisms\u001B[49m\u001B[43m(\u001B[49m\u001B[43mcausal_model\u001B[49m\u001B[43m,\u001B[49m\u001B[43m \u001B[49m\u001B[43mmedical_data\u001B[49m\u001B[43m,\u001B[49m\n\u001B[1;32m      8\u001B[0m \u001B[43m                                            \u001B[49m\u001B[43mquality\u001B[49m\u001B[38;5;241;43m=\u001B[39;49m\u001B[43mdowhy\u001B[49m\u001B[38;5;241;43m.\u001B[39;49m\u001B[43mgcm\u001B[49m\u001B[38;5;241;43m.\u001B[39;49m\u001B[43mauto\u001B[49m\u001B[38;5;241;43m.\u001B[39;49m\u001B[43mAssignmentQuality\u001B[49m\u001B[38;5;241;43m.\u001B[39;49m\u001B[43mBETTER\u001B[49m\u001B[43m,\u001B[49m\n\u001B[1;32m      9\u001B[0m \u001B[43m                                            \u001B[49m\u001B[43moverride_models\u001B[49m\u001B[38;5;241;43m=\u001B[39;49m\u001B[38;5;28;43;01mTrue\u001B[39;49;00m\u001B[43m)\u001B[49m\n\u001B[1;32m     10\u001B[0m     dowhy\u001B[38;5;241m.\u001B[39mgcm\u001B[38;5;241m.\u001B[39mfit(causal_model, medical_data)\n\u001B[1;32m     11\u001B[0m     ACE \u001B[38;5;241m=\u001B[39m dowhy\u001B[38;5;241m.\u001B[39mgcm\u001B[38;5;241m.\u001B[39maverage_causal_effect(causal_model,\n\u001B[1;32m     12\u001B[0m                                           \u001B[38;5;124m\"\u001B[39m\u001B[38;5;124mMetric\u001B[39m\u001B[38;5;124m\"\u001B[39m,\n\u001B[1;32m     13\u001B[0m                                           {\u001B[38;5;124m'\u001B[39m\u001B[38;5;124mTreatment\u001B[39m\u001B[38;5;124m'\u001B[39m: \u001B[38;5;28;01mlambda\u001B[39;00m x : \u001B[38;5;241m1\u001B[39m}, {\u001B[38;5;124m'\u001B[39m\u001B[38;5;124mTreatment\u001B[39m\u001B[38;5;124m'\u001B[39m: \u001B[38;5;28;01mlambda\u001B[39;00m x: \u001B[38;5;241m0\u001B[39m},\n\u001B[1;32m     14\u001B[0m                                           num_samples_to_draw\u001B[38;5;241m=\u001B[39m\u001B[38;5;28mlen\u001B[39m(medical_data))\n",
      "File \u001B[0;32m~/Library/Python/3.9/lib/python/site-packages/dowhy/gcm/auto.py:138\u001B[0m, in \u001B[0;36massign_causal_mechanisms\u001B[0;34m(causal_model, based_on, quality, override_models)\u001B[0m\n\u001B[1;32m    136\u001B[0m     causal_model\u001B[38;5;241m.\u001B[39mset_causal_mechanism(node, EmpiricalDistribution())\n\u001B[1;32m    137\u001B[0m \u001B[38;5;28;01melse\u001B[39;00m:\n\u001B[0;32m--> 138\u001B[0m     prediction_model \u001B[38;5;241m=\u001B[39m \u001B[43mselect_model\u001B[49m\u001B[43m(\u001B[49m\n\u001B[1;32m    139\u001B[0m \u001B[43m        \u001B[49m\u001B[43mbased_on\u001B[49m\u001B[43m[\u001B[49m\u001B[43mget_ordered_predecessors\u001B[49m\u001B[43m(\u001B[49m\u001B[43mcausal_model\u001B[49m\u001B[38;5;241;43m.\u001B[39;49m\u001B[43mgraph\u001B[49m\u001B[43m,\u001B[49m\u001B[43m \u001B[49m\u001B[43mnode\u001B[49m\u001B[43m)\u001B[49m\u001B[43m]\u001B[49m\u001B[38;5;241;43m.\u001B[39;49m\u001B[43mto_numpy\u001B[49m\u001B[43m(\u001B[49m\u001B[43m)\u001B[49m\u001B[43m,\u001B[49m\n\u001B[1;32m    140\u001B[0m \u001B[43m        \u001B[49m\u001B[43mbased_on\u001B[49m\u001B[43m[\u001B[49m\u001B[43mnode\u001B[49m\u001B[43m]\u001B[49m\u001B[38;5;241;43m.\u001B[39;49m\u001B[43mto_numpy\u001B[49m\u001B[43m(\u001B[49m\u001B[43m)\u001B[49m\u001B[43m,\u001B[49m\n\u001B[1;32m    141\u001B[0m \u001B[43m        \u001B[49m\u001B[43mquality\u001B[49m\u001B[43m,\u001B[49m\n\u001B[1;32m    142\u001B[0m \u001B[43m    \u001B[49m\u001B[43m)\u001B[49m\n\u001B[1;32m    144\u001B[0m     \u001B[38;5;28;01mif\u001B[39;00m \u001B[38;5;28misinstance\u001B[39m(prediction_model, ClassificationModel):\n\u001B[1;32m    145\u001B[0m         causal_model\u001B[38;5;241m.\u001B[39mset_causal_mechanism(node, ClassifierFCM(prediction_model))\n",
      "File \u001B[0;32m~/Library/Python/3.9/lib/python/site-packages/dowhy/gcm/auto.py:185\u001B[0m, in \u001B[0;36mselect_model\u001B[0;34m(X, Y, model_selection_quality)\u001B[0m\n\u001B[1;32m    183\u001B[0m     \u001B[38;5;28;01mreturn\u001B[39;00m find_best_model(list_of_classifier, X, Y, model_selection_splits\u001B[38;5;241m=\u001B[39mmodel_selection_splits)()\n\u001B[1;32m    184\u001B[0m \u001B[38;5;28;01melse\u001B[39;00m:\n\u001B[0;32m--> 185\u001B[0m     \u001B[38;5;28;01mreturn\u001B[39;00m \u001B[43mfind_best_model\u001B[49m\u001B[43m(\u001B[49m\u001B[43mlist_of_regressor\u001B[49m\u001B[43m,\u001B[49m\u001B[43m \u001B[49m\u001B[43mX\u001B[49m\u001B[43m,\u001B[49m\u001B[43m \u001B[49m\u001B[43mY\u001B[49m\u001B[43m,\u001B[49m\u001B[43m \u001B[49m\u001B[43mmodel_selection_splits\u001B[49m\u001B[38;5;241;43m=\u001B[39;49m\u001B[43mmodel_selection_splits\u001B[49m\u001B[43m)\u001B[49m()\n",
      "File \u001B[0;32m~/Library/Python/3.9/lib/python/site-packages/dowhy/gcm/auto.py:290\u001B[0m, in \u001B[0;36mfind_best_model\u001B[0;34m(prediction_model_factories, X, Y, metric, max_samples_per_split, model_selection_splits, n_jobs)\u001B[0m\n\u001B[1;32m    287\u001B[0m     \u001B[38;5;28;01mreturn\u001B[39;00m average_result \u001B[38;5;241m/\u001B[39m model_selection_splits\n\u001B[1;32m    289\u001B[0m random_seeds \u001B[38;5;241m=\u001B[39m np\u001B[38;5;241m.\u001B[39mrandom\u001B[38;5;241m.\u001B[39mrandint(np\u001B[38;5;241m.\u001B[39miinfo(np\u001B[38;5;241m.\u001B[39mint32)\u001B[38;5;241m.\u001B[39mmax, size\u001B[38;5;241m=\u001B[39m\u001B[38;5;28mlen\u001B[39m(prediction_model_factories))\n\u001B[0;32m--> 290\u001B[0m average_metric_scores \u001B[38;5;241m=\u001B[39m \u001B[43mParallel\u001B[49m\u001B[43m(\u001B[49m\u001B[43mn_jobs\u001B[49m\u001B[38;5;241;43m=\u001B[39;49m\u001B[43mn_jobs\u001B[49m\u001B[43m)\u001B[49m\u001B[43m(\u001B[49m\n\u001B[1;32m    291\u001B[0m \u001B[43m    \u001B[49m\u001B[43mdelayed\u001B[49m\u001B[43m(\u001B[49m\u001B[43mestimate_average_score\u001B[49m\u001B[43m)\u001B[49m\u001B[43m(\u001B[49m\u001B[43mprediction_model_factory\u001B[49m\u001B[43m,\u001B[49m\u001B[43m \u001B[49m\u001B[43mrandom_seed\u001B[49m\u001B[43m)\u001B[49m\n\u001B[1;32m    292\u001B[0m \u001B[43m    \u001B[49m\u001B[38;5;28;43;01mfor\u001B[39;49;00m\u001B[43m \u001B[49m\u001B[43mprediction_model_factory\u001B[49m\u001B[43m,\u001B[49m\u001B[43m \u001B[49m\u001B[43mrandom_seed\u001B[49m\u001B[43m \u001B[49m\u001B[38;5;129;43;01min\u001B[39;49;00m\u001B[43m \u001B[49m\u001B[38;5;28;43mzip\u001B[39;49m\u001B[43m(\u001B[49m\u001B[43mprediction_model_factories\u001B[49m\u001B[43m,\u001B[49m\u001B[43m \u001B[49m\u001B[43mrandom_seeds\u001B[49m\u001B[43m)\u001B[49m\n\u001B[1;32m    293\u001B[0m \u001B[43m\u001B[49m\u001B[43m)\u001B[49m\n\u001B[1;32m    295\u001B[0m \u001B[38;5;28;01mreturn\u001B[39;00m \u001B[38;5;28msorted\u001B[39m(\u001B[38;5;28mzip\u001B[39m(prediction_model_factories, average_metric_scores), key\u001B[38;5;241m=\u001B[39m\u001B[38;5;28;01mlambda\u001B[39;00m x: x[\u001B[38;5;241m1\u001B[39m])[\u001B[38;5;241m0\u001B[39m][\u001B[38;5;241m0\u001B[39m]\n",
      "File \u001B[0;32m~/Library/Python/3.9/lib/python/site-packages/joblib/parallel.py:1098\u001B[0m, in \u001B[0;36mParallel.__call__\u001B[0;34m(self, iterable)\u001B[0m\n\u001B[1;32m   1095\u001B[0m     \u001B[38;5;28mself\u001B[39m\u001B[38;5;241m.\u001B[39m_iterating \u001B[38;5;241m=\u001B[39m \u001B[38;5;28;01mFalse\u001B[39;00m\n\u001B[1;32m   1097\u001B[0m \u001B[38;5;28;01mwith\u001B[39;00m \u001B[38;5;28mself\u001B[39m\u001B[38;5;241m.\u001B[39m_backend\u001B[38;5;241m.\u001B[39mretrieval_context():\n\u001B[0;32m-> 1098\u001B[0m     \u001B[38;5;28;43mself\u001B[39;49m\u001B[38;5;241;43m.\u001B[39;49m\u001B[43mretrieve\u001B[49m\u001B[43m(\u001B[49m\u001B[43m)\u001B[49m\n\u001B[1;32m   1099\u001B[0m \u001B[38;5;66;03m# Make sure that we get a last message telling us we are done\u001B[39;00m\n\u001B[1;32m   1100\u001B[0m elapsed_time \u001B[38;5;241m=\u001B[39m time\u001B[38;5;241m.\u001B[39mtime() \u001B[38;5;241m-\u001B[39m \u001B[38;5;28mself\u001B[39m\u001B[38;5;241m.\u001B[39m_start_time\n",
      "File \u001B[0;32m~/Library/Python/3.9/lib/python/site-packages/joblib/parallel.py:975\u001B[0m, in \u001B[0;36mParallel.retrieve\u001B[0;34m(self)\u001B[0m\n\u001B[1;32m    973\u001B[0m \u001B[38;5;28;01mtry\u001B[39;00m:\n\u001B[1;32m    974\u001B[0m     \u001B[38;5;28;01mif\u001B[39;00m \u001B[38;5;28mgetattr\u001B[39m(\u001B[38;5;28mself\u001B[39m\u001B[38;5;241m.\u001B[39m_backend, \u001B[38;5;124m'\u001B[39m\u001B[38;5;124msupports_timeout\u001B[39m\u001B[38;5;124m'\u001B[39m, \u001B[38;5;28;01mFalse\u001B[39;00m):\n\u001B[0;32m--> 975\u001B[0m         \u001B[38;5;28mself\u001B[39m\u001B[38;5;241m.\u001B[39m_output\u001B[38;5;241m.\u001B[39mextend(\u001B[43mjob\u001B[49m\u001B[38;5;241;43m.\u001B[39;49m\u001B[43mget\u001B[49m\u001B[43m(\u001B[49m\u001B[43mtimeout\u001B[49m\u001B[38;5;241;43m=\u001B[39;49m\u001B[38;5;28;43mself\u001B[39;49m\u001B[38;5;241;43m.\u001B[39;49m\u001B[43mtimeout\u001B[49m\u001B[43m)\u001B[49m)\n\u001B[1;32m    976\u001B[0m     \u001B[38;5;28;01melse\u001B[39;00m:\n\u001B[1;32m    977\u001B[0m         \u001B[38;5;28mself\u001B[39m\u001B[38;5;241m.\u001B[39m_output\u001B[38;5;241m.\u001B[39mextend(job\u001B[38;5;241m.\u001B[39mget())\n",
      "File \u001B[0;32m~/Library/Python/3.9/lib/python/site-packages/joblib/_parallel_backends.py:567\u001B[0m, in \u001B[0;36mLokyBackend.wrap_future_result\u001B[0;34m(future, timeout)\u001B[0m\n\u001B[1;32m    564\u001B[0m \u001B[38;5;124;03m\"\"\"Wrapper for Future.result to implement the same behaviour as\u001B[39;00m\n\u001B[1;32m    565\u001B[0m \u001B[38;5;124;03mAsyncResults.get from multiprocessing.\"\"\"\u001B[39;00m\n\u001B[1;32m    566\u001B[0m \u001B[38;5;28;01mtry\u001B[39;00m:\n\u001B[0;32m--> 567\u001B[0m     \u001B[38;5;28;01mreturn\u001B[39;00m \u001B[43mfuture\u001B[49m\u001B[38;5;241;43m.\u001B[39;49m\u001B[43mresult\u001B[49m\u001B[43m(\u001B[49m\u001B[43mtimeout\u001B[49m\u001B[38;5;241;43m=\u001B[39;49m\u001B[43mtimeout\u001B[49m\u001B[43m)\u001B[49m\n\u001B[1;32m    568\u001B[0m \u001B[38;5;28;01mexcept\u001B[39;00m CfTimeoutError \u001B[38;5;28;01mas\u001B[39;00m e:\n\u001B[1;32m    569\u001B[0m     \u001B[38;5;28;01mraise\u001B[39;00m \u001B[38;5;167;01mTimeoutError\u001B[39;00m \u001B[38;5;28;01mfrom\u001B[39;00m \u001B[38;5;21;01me\u001B[39;00m\n",
      "File \u001B[0;32m/Applications/Xcode.app/Contents/Developer/Library/Frameworks/Python3.framework/Versions/3.9/lib/python3.9/concurrent/futures/_base.py:440\u001B[0m, in \u001B[0;36mFuture.result\u001B[0;34m(self, timeout)\u001B[0m\n\u001B[1;32m    437\u001B[0m \u001B[38;5;28;01melif\u001B[39;00m \u001B[38;5;28mself\u001B[39m\u001B[38;5;241m.\u001B[39m_state \u001B[38;5;241m==\u001B[39m FINISHED:\n\u001B[1;32m    438\u001B[0m     \u001B[38;5;28;01mreturn\u001B[39;00m \u001B[38;5;28mself\u001B[39m\u001B[38;5;241m.\u001B[39m__get_result()\n\u001B[0;32m--> 440\u001B[0m \u001B[38;5;28;43mself\u001B[39;49m\u001B[38;5;241;43m.\u001B[39;49m\u001B[43m_condition\u001B[49m\u001B[38;5;241;43m.\u001B[39;49m\u001B[43mwait\u001B[49m\u001B[43m(\u001B[49m\u001B[43mtimeout\u001B[49m\u001B[43m)\u001B[49m\n\u001B[1;32m    442\u001B[0m \u001B[38;5;28;01mif\u001B[39;00m \u001B[38;5;28mself\u001B[39m\u001B[38;5;241m.\u001B[39m_state \u001B[38;5;129;01min\u001B[39;00m [CANCELLED, CANCELLED_AND_NOTIFIED]:\n\u001B[1;32m    443\u001B[0m     \u001B[38;5;28;01mraise\u001B[39;00m CancelledError()\n",
      "File \u001B[0;32m/Applications/Xcode.app/Contents/Developer/Library/Frameworks/Python3.framework/Versions/3.9/lib/python3.9/threading.py:312\u001B[0m, in \u001B[0;36mCondition.wait\u001B[0;34m(self, timeout)\u001B[0m\n\u001B[1;32m    310\u001B[0m \u001B[38;5;28;01mtry\u001B[39;00m:    \u001B[38;5;66;03m# restore state no matter what (e.g., KeyboardInterrupt)\u001B[39;00m\n\u001B[1;32m    311\u001B[0m     \u001B[38;5;28;01mif\u001B[39;00m timeout \u001B[38;5;129;01mis\u001B[39;00m \u001B[38;5;28;01mNone\u001B[39;00m:\n\u001B[0;32m--> 312\u001B[0m         \u001B[43mwaiter\u001B[49m\u001B[38;5;241;43m.\u001B[39;49m\u001B[43macquire\u001B[49m\u001B[43m(\u001B[49m\u001B[43m)\u001B[49m\n\u001B[1;32m    313\u001B[0m         gotit \u001B[38;5;241m=\u001B[39m \u001B[38;5;28;01mTrue\u001B[39;00m\n\u001B[1;32m    314\u001B[0m     \u001B[38;5;28;01melse\u001B[39;00m:\n",
      "\u001B[0;31mKeyboardInterrupt\u001B[0m: "
     ]
    }
   ],
   "source": [
    "causal_model = dowhy.gcm.InvertibleStructuralCausalModel(\n",
    "    nx.DiGraph([('Treatment', 'Metric'), ('Condition', 'Metric')])\n",
    ")\n",
    "dowhy.gcm.util.plot(causal_model.graph)\n",
    "\n",
    "for medical_data, medical_label in zip(medical_data_list, medical_data_labels):\n",
    "    dowhy.gcm.auto.assign_causal_mechanisms(causal_model, medical_data,\n",
    "                                            quality=dowhy.gcm.auto.AssignmentQuality.BETTER,\n",
    "                                            override_models=True)\n",
    "    dowhy.gcm.fit(causal_model, medical_data)\n",
    "    ACE = dowhy.gcm.average_causal_effect(causal_model,\n",
    "                                          \"Metric\",\n",
    "                                          {'Treatment': lambda x : 1}, {'Treatment': lambda x: 0},\n",
    "                                          num_samples_to_draw=len(medical_data))\n",
    "    print(medical_label + \"数据中，Treatment的ACE：\", ACE)"
   ],
   "metadata": {
    "collapsed": false,
    "pycharm": {
     "name": "#%%\n"
    }
   }
  },
  {
   "cell_type": "code",
   "execution_count": 19,
   "outputs": [],
   "source": [],
   "metadata": {
    "collapsed": false,
    "pycharm": {
     "name": "#%%\n"
    }
   }
  }
 ],
 "metadata": {
  "kernelspec": {
   "name": "ipython",
   "language": "python",
   "display_name": "ipython"
  },
  "language_info": {
   "codemirror_mode": {
    "name": "ipython",
    "version": 2
   },
   "file_extension": ".py",
   "mimetype": "text/x-python",
   "name": "python",
   "nbconvert_exporter": "python",
   "pygments_lexer": "ipython2",
   "version": "2.7.6"
  }
 },
 "nbformat": 4,
 "nbformat_minor": 0
}